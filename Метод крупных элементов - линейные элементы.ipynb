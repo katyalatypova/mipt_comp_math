{
 "cells": [
  {
   "cell_type": "code",
   "execution_count": 54,
   "metadata": {},
   "outputs": [],
   "source": [
    "import numpy as np\n",
    "import matplotlib.pyplot as plt"
   ]
  },
  {
   "cell_type": "code",
   "execution_count": 56,
   "metadata": {},
   "outputs": [],
   "source": [
    "def linearElementsMLE(N, koef, f, T0, T1):\n",
    "    h = 1/(N - 1)\n",
    "    l = np.zeros((2,N - 1), dtype = np.int8)\n",
    "    for j in range(N - 1):\n",
    "        l[0, j] = int(j)\n",
    "        l[1, j] = int(j + 1)\n",
    "\n",
    "    a = np.array([[1, -1], [-1, 1]]) * 1/h\n",
    "    load_matrix = np.zeros((N, N))\n",
    "    for k in range(N - 1):\n",
    "        for i in range(2):\n",
    "            for j in range(2):\n",
    "                load_matrix[l[i, k], l[j, k]] +=  (koef[k] + koef[k + 1]) * a[i, j]/2\n",
    "    \n",
    "    F = np.zeros((2,N))\n",
    "    for k in range(N - 1):\n",
    "        F[0, k] = h / 6 * (2 * f[l[0, k]] + f[l[1, k]]) \n",
    "        F[1, k] = h / 6 * (2 * f[l[1, k]] + f[l[0, k]]) \n",
    "    load_vect = np.zeros(N)\n",
    "    for k in range(N - 1):\n",
    "        for i in range(2):\n",
    "            load_vect[l[i, k]] += F[i, k]\n",
    "    \n",
    "    load_matrix[0, 0] = 1; load_matrix[0, 1] = 0\n",
    "    load_vect[0] = T0\n",
    "    \n",
    "    load_matrix[-1, -1] = 1; load_matrix[-1, -2] = 0\n",
    "    load_vect[-1] = T1\n",
    "    return np.linalg.solve(load_matrix, load_vect)"
   ]
  },
  {
   "cell_type": "code",
   "execution_count": 87,
   "metadata": {},
   "outputs": [],
   "source": [
    "def preciseSolution(k1, k2, f1, f2, T1, T2, x):\n",
    "    matrix = np.array([[1 * k1, 0, -1 * k2, 0], [0, 1, 0, 0], [0, 0, 1, 1], [0.5, 1, -0.5, -1]])\n",
    "    vect = np.array([0.5*(f1 - f2), T1, T2 + f2/2/k2, -(f2/k2- f1/k1)/8])\n",
    "    const = np.linalg.solve(matrix, vect)\n",
    "    sol = [ -f1/2/k1 * x**2 + const[0] * x + const[1] if x <= 0.5 else -f2/2/k2 * x**2 + const[2] * x + const[3] for x in x]\n",
    "    return sol"
   ]
  },
  {
   "cell_type": "code",
   "execution_count": 104,
   "metadata": {},
   "outputs": [
    {
     "data": {
      "text/plain": [
       "<matplotlib.legend.Legend at 0x1e0f148dc08>"
      ]
     },
     "execution_count": 104,
     "metadata": {},
     "output_type": "execute_result"
    },
    {
     "data": {
      "image/png": "[encoded data removed]",
      "text/plain": [
       "<Figure size 720x360 with 1 Axes>"
      ]
     },
     "metadata": {
      "needs_background": "light"
     },
     "output_type": "display_data"
    }
   ],
   "source": [
    "N = 100; f1 = 1; k1 = 2; f2 = 3; k2 = 6; T1 = 10; T2 = 5\n",
    "x = np.linspace(0, 1, N)\n",
    "f = [f1 if x[i] <= 0.5 else f2 for i in range(N)]\n",
    "koef = np.array([k1 if x[i] <= 0.5 else k2 for i in range(N) ])\n",
    "sol = linearElementsMLE(N, koef, f, T0 = T1, T1 = T2)\n",
    "pres_sol = preciseSolution(k1, k2, f1, f2, T1, T2, x)\n",
    "plt.figure(figsize = (10, 5))\n",
    "plt.plot(x, sol, label = \"numerical solution\")\n",
    "plt.plot(x, pres_sol, label = \"precise solution\")\n",
    "plt.legend()"
   ]
  },
  {
   "cell_type": "code",
   "execution_count": null,
   "metadata": {},
   "outputs": [],
   "source": []
  }
 ],
 "metadata": {
  "kernelspec": {
   "display_name": "Python [conda env:root] *",
   "language": "python",
   "name": "conda-root-py"
  },
  "language_info": {
   "codemirror_mode": {
    "name": "ipython",
    "version": 3
   },
   "file_extension": ".py",
   "mimetype": "text/x-python",
   "name": "python",
   "nbconvert_exporter": "python",
   "pygments_lexer": "ipython3",
   "version": "3.7.4"
  }
 },
 "nbformat": 4,
 "nbformat_minor": 2
}
